{
 "cells": [
  {
   "cell_type": "code",
   "execution_count": 831,
   "id": "9be89a11-965f-48d0-8518-bab03f534438",
   "metadata": {},
   "outputs": [],
   "source": [
    "import pandas as pd\n",
    "import matplotlib.pyplot as plt\n",
    "import seaborn as sns\n",
    "import numpy as np"
   ]
  },
  {
   "cell_type": "markdown",
   "id": "bff1c8f3-7155-42aa-afd3-3417872edf74",
   "metadata": {},
   "source": [
    "# Data Understanding"
   ]
  },
  {
   "cell_type": "code",
   "execution_count": 832,
   "id": "577d6073-b826-40bb-8b04-024927981300",
   "metadata": {},
   "outputs": [
    {
     "name": "stdout",
     "output_type": "stream",
     "text": [
      "Transaction ID       int64\n",
      "Date                object\n",
      "Customer ID         object\n",
      "Gender              object\n",
      "Age                  int64\n",
      "Product Category    object\n",
      "Quantity             int64\n",
      "Price per Unit       int64\n",
      "Total Amount         int64\n",
      "dtype: object\n"
     ]
    }
   ],
   "source": [
    "df = pd.read_csv(\"ALL_DATA.csv\") \n",
    "# x = pd.read_csv(\"ALL_DATA.csv\")\n",
    "print(df.dtypes)"
   ]
  },
  {
   "cell_type": "code",
   "execution_count": 833,
   "id": "e855dbd4-7855-478b-a9d7-449f55e0409a",
   "metadata": {},
   "outputs": [
    {
     "data": {
      "text/html": [
       "<div>\n",
       "<style scoped>\n",
       "    .dataframe tbody tr th:only-of-type {\n",
       "        vertical-align: middle;\n",
       "    }\n",
       "\n",
       "    .dataframe tbody tr th {\n",
       "        vertical-align: top;\n",
       "    }\n",
       "\n",
       "    .dataframe thead th {\n",
       "        text-align: right;\n",
       "    }\n",
       "</style>\n",
       "<table border=\"1\" class=\"dataframe\">\n",
       "  <thead>\n",
       "    <tr style=\"text-align: right;\">\n",
       "      <th></th>\n",
       "      <th>Transaction ID</th>\n",
       "      <th>Date</th>\n",
       "      <th>Customer ID</th>\n",
       "      <th>Gender</th>\n",
       "      <th>Age</th>\n",
       "      <th>Product Category</th>\n",
       "      <th>Quantity</th>\n",
       "      <th>Price per Unit</th>\n",
       "      <th>Total Amount</th>\n",
       "    </tr>\n",
       "  </thead>\n",
       "  <tbody>\n",
       "    <tr>\n",
       "      <th>990</th>\n",
       "      <td>991</td>\n",
       "      <td>2023-12-26</td>\n",
       "      <td>CUST991</td>\n",
       "      <td>Female</td>\n",
       "      <td>34</td>\n",
       "      <td>Clothing</td>\n",
       "      <td>2</td>\n",
       "      <td>50</td>\n",
       "      <td>100</td>\n",
       "    </tr>\n",
       "    <tr>\n",
       "      <th>991</th>\n",
       "      <td>992</td>\n",
       "      <td>2023-08-21</td>\n",
       "      <td>CUST992</td>\n",
       "      <td>Female</td>\n",
       "      <td>57</td>\n",
       "      <td>Electronics</td>\n",
       "      <td>2</td>\n",
       "      <td>30</td>\n",
       "      <td>60</td>\n",
       "    </tr>\n",
       "    <tr>\n",
       "      <th>992</th>\n",
       "      <td>993</td>\n",
       "      <td>2023-02-06</td>\n",
       "      <td>CUST993</td>\n",
       "      <td>Female</td>\n",
       "      <td>48</td>\n",
       "      <td>Electronics</td>\n",
       "      <td>3</td>\n",
       "      <td>50</td>\n",
       "      <td>150</td>\n",
       "    </tr>\n",
       "    <tr>\n",
       "      <th>993</th>\n",
       "      <td>994</td>\n",
       "      <td>2023-12-18</td>\n",
       "      <td>CUST994</td>\n",
       "      <td>Female</td>\n",
       "      <td>51</td>\n",
       "      <td>Beauty</td>\n",
       "      <td>2</td>\n",
       "      <td>500</td>\n",
       "      <td>1000</td>\n",
       "    </tr>\n",
       "    <tr>\n",
       "      <th>994</th>\n",
       "      <td>995</td>\n",
       "      <td>2023-04-30</td>\n",
       "      <td>CUST995</td>\n",
       "      <td>Female</td>\n",
       "      <td>41</td>\n",
       "      <td>Clothing</td>\n",
       "      <td>1</td>\n",
       "      <td>30</td>\n",
       "      <td>30</td>\n",
       "    </tr>\n",
       "    <tr>\n",
       "      <th>995</th>\n",
       "      <td>996</td>\n",
       "      <td>2023-05-16</td>\n",
       "      <td>CUST996</td>\n",
       "      <td>Male</td>\n",
       "      <td>62</td>\n",
       "      <td>Clothing</td>\n",
       "      <td>1</td>\n",
       "      <td>50</td>\n",
       "      <td>50</td>\n",
       "    </tr>\n",
       "    <tr>\n",
       "      <th>996</th>\n",
       "      <td>997</td>\n",
       "      <td>2023-11-17</td>\n",
       "      <td>CUST997</td>\n",
       "      <td>Male</td>\n",
       "      <td>52</td>\n",
       "      <td>Beauty</td>\n",
       "      <td>3</td>\n",
       "      <td>30</td>\n",
       "      <td>90</td>\n",
       "    </tr>\n",
       "    <tr>\n",
       "      <th>997</th>\n",
       "      <td>998</td>\n",
       "      <td>2023-10-29</td>\n",
       "      <td>CUST998</td>\n",
       "      <td>Female</td>\n",
       "      <td>23</td>\n",
       "      <td>Beauty</td>\n",
       "      <td>4</td>\n",
       "      <td>25</td>\n",
       "      <td>100</td>\n",
       "    </tr>\n",
       "    <tr>\n",
       "      <th>998</th>\n",
       "      <td>999</td>\n",
       "      <td>2023-12-05</td>\n",
       "      <td>CUST999</td>\n",
       "      <td>Female</td>\n",
       "      <td>36</td>\n",
       "      <td>Electronics</td>\n",
       "      <td>3</td>\n",
       "      <td>50</td>\n",
       "      <td>150</td>\n",
       "    </tr>\n",
       "    <tr>\n",
       "      <th>999</th>\n",
       "      <td>1000</td>\n",
       "      <td>2023-04-12</td>\n",
       "      <td>CUST1000</td>\n",
       "      <td>Male</td>\n",
       "      <td>47</td>\n",
       "      <td>Electronics</td>\n",
       "      <td>4</td>\n",
       "      <td>30</td>\n",
       "      <td>120</td>\n",
       "    </tr>\n",
       "  </tbody>\n",
       "</table>\n",
       "</div>"
      ],
      "text/plain": [
       "     Transaction ID        Date Customer ID  Gender  Age Product Category  \\\n",
       "990             991  2023-12-26     CUST991  Female   34         Clothing   \n",
       "991             992  2023-08-21     CUST992  Female   57      Electronics   \n",
       "992             993  2023-02-06     CUST993  Female   48      Electronics   \n",
       "993             994  2023-12-18     CUST994  Female   51           Beauty   \n",
       "994             995  2023-04-30     CUST995  Female   41         Clothing   \n",
       "995             996  2023-05-16     CUST996    Male   62         Clothing   \n",
       "996             997  2023-11-17     CUST997    Male   52           Beauty   \n",
       "997             998  2023-10-29     CUST998  Female   23           Beauty   \n",
       "998             999  2023-12-05     CUST999  Female   36      Electronics   \n",
       "999            1000  2023-04-12    CUST1000    Male   47      Electronics   \n",
       "\n",
       "     Quantity  Price per Unit  Total Amount  \n",
       "990         2              50           100  \n",
       "991         2              30            60  \n",
       "992         3              50           150  \n",
       "993         2             500          1000  \n",
       "994         1              30            30  \n",
       "995         1              50            50  \n",
       "996         3              30            90  \n",
       "997         4              25           100  \n",
       "998         3              50           150  \n",
       "999         4              30           120  "
      ]
     },
     "execution_count": 833,
     "metadata": {},
     "output_type": "execute_result"
    }
   ],
   "source": [
    "df.tail(10)"
   ]
  },
  {
   "cell_type": "code",
   "execution_count": 834,
   "id": "bf38528a-9cf8-44ce-afd3-72f54d4ebf0c",
   "metadata": {},
   "outputs": [
    {
     "name": "stdout",
     "output_type": "stream",
     "text": [
      "<class 'pandas.core.frame.DataFrame'>\n",
      "RangeIndex: 1000 entries, 0 to 999\n",
      "Data columns (total 9 columns):\n",
      " #   Column            Non-Null Count  Dtype \n",
      "---  ------            --------------  ----- \n",
      " 0   Transaction ID    1000 non-null   int64 \n",
      " 1   Date              1000 non-null   object\n",
      " 2   Customer ID       1000 non-null   object\n",
      " 3   Gender            1000 non-null   object\n",
      " 4   Age               1000 non-null   int64 \n",
      " 5   Product Category  1000 non-null   object\n",
      " 6   Quantity          1000 non-null   int64 \n",
      " 7   Price per Unit    1000 non-null   int64 \n",
      " 8   Total Amount      1000 non-null   int64 \n",
      "dtypes: int64(5), object(4)\n",
      "memory usage: 70.4+ KB\n",
      "None\n"
     ]
    }
   ],
   "source": [
    "print(df.info())"
   ]
  },
  {
   "cell_type": "code",
   "execution_count": 835,
   "id": "c01a2f58-09a4-48c7-a4f8-0884e4e7e779",
   "metadata": {},
   "outputs": [
    {
     "name": "stdout",
     "output_type": "stream",
     "text": [
      "(1000, 9)\n"
     ]
    }
   ],
   "source": [
    "print(df.shape)"
   ]
  },
  {
   "cell_type": "code",
   "execution_count": 836,
   "id": "81fb78e4-d892-4f6a-9c03-cc65ffe833e4",
   "metadata": {},
   "outputs": [
    {
     "data": {
      "text/html": [
       "<div>\n",
       "<style scoped>\n",
       "    .dataframe tbody tr th:only-of-type {\n",
       "        vertical-align: middle;\n",
       "    }\n",
       "\n",
       "    .dataframe tbody tr th {\n",
       "        vertical-align: top;\n",
       "    }\n",
       "\n",
       "    .dataframe thead th {\n",
       "        text-align: right;\n",
       "    }\n",
       "</style>\n",
       "<table border=\"1\" class=\"dataframe\">\n",
       "  <thead>\n",
       "    <tr style=\"text-align: right;\">\n",
       "      <th></th>\n",
       "      <th>Transaction ID</th>\n",
       "      <th>Age</th>\n",
       "      <th>Quantity</th>\n",
       "      <th>Price per Unit</th>\n",
       "      <th>Total Amount</th>\n",
       "    </tr>\n",
       "  </thead>\n",
       "  <tbody>\n",
       "    <tr>\n",
       "      <th>count</th>\n",
       "      <td>1000.000000</td>\n",
       "      <td>1000.00000</td>\n",
       "      <td>1000.000000</td>\n",
       "      <td>1000.000000</td>\n",
       "      <td>1000.000000</td>\n",
       "    </tr>\n",
       "    <tr>\n",
       "      <th>mean</th>\n",
       "      <td>500.500000</td>\n",
       "      <td>41.39200</td>\n",
       "      <td>2.514000</td>\n",
       "      <td>179.890000</td>\n",
       "      <td>456.000000</td>\n",
       "    </tr>\n",
       "    <tr>\n",
       "      <th>std</th>\n",
       "      <td>288.819436</td>\n",
       "      <td>13.68143</td>\n",
       "      <td>1.132734</td>\n",
       "      <td>189.681356</td>\n",
       "      <td>559.997632</td>\n",
       "    </tr>\n",
       "    <tr>\n",
       "      <th>min</th>\n",
       "      <td>1.000000</td>\n",
       "      <td>18.00000</td>\n",
       "      <td>1.000000</td>\n",
       "      <td>25.000000</td>\n",
       "      <td>25.000000</td>\n",
       "    </tr>\n",
       "    <tr>\n",
       "      <th>25%</th>\n",
       "      <td>250.750000</td>\n",
       "      <td>29.00000</td>\n",
       "      <td>1.000000</td>\n",
       "      <td>30.000000</td>\n",
       "      <td>60.000000</td>\n",
       "    </tr>\n",
       "    <tr>\n",
       "      <th>50%</th>\n",
       "      <td>500.500000</td>\n",
       "      <td>42.00000</td>\n",
       "      <td>3.000000</td>\n",
       "      <td>50.000000</td>\n",
       "      <td>135.000000</td>\n",
       "    </tr>\n",
       "    <tr>\n",
       "      <th>75%</th>\n",
       "      <td>750.250000</td>\n",
       "      <td>53.00000</td>\n",
       "      <td>4.000000</td>\n",
       "      <td>300.000000</td>\n",
       "      <td>900.000000</td>\n",
       "    </tr>\n",
       "    <tr>\n",
       "      <th>max</th>\n",
       "      <td>1000.000000</td>\n",
       "      <td>64.00000</td>\n",
       "      <td>4.000000</td>\n",
       "      <td>500.000000</td>\n",
       "      <td>2000.000000</td>\n",
       "    </tr>\n",
       "  </tbody>\n",
       "</table>\n",
       "</div>"
      ],
      "text/plain": [
       "       Transaction ID         Age     Quantity  Price per Unit  Total Amount\n",
       "count     1000.000000  1000.00000  1000.000000     1000.000000   1000.000000\n",
       "mean       500.500000    41.39200     2.514000      179.890000    456.000000\n",
       "std        288.819436    13.68143     1.132734      189.681356    559.997632\n",
       "min          1.000000    18.00000     1.000000       25.000000     25.000000\n",
       "25%        250.750000    29.00000     1.000000       30.000000     60.000000\n",
       "50%        500.500000    42.00000     3.000000       50.000000    135.000000\n",
       "75%        750.250000    53.00000     4.000000      300.000000    900.000000\n",
       "max       1000.000000    64.00000     4.000000      500.000000   2000.000000"
      ]
     },
     "execution_count": 836,
     "metadata": {},
     "output_type": "execute_result"
    }
   ],
   "source": [
    "df.describe()"
   ]
  },
  {
   "cell_type": "code",
   "execution_count": 837,
   "id": "e5c50a1f-3c11-47fb-a744-a0ec1e9e116b",
   "metadata": {},
   "outputs": [
    {
     "name": "stdout",
     "output_type": "stream",
     "text": [
      "Product Category\n",
      "Clothing       351\n",
      "Electronics    342\n",
      "Beauty         307\n",
      "Name: count, dtype: int64\n",
      "\n",
      "Gender\n",
      "Female    510\n",
      "Male      490\n",
      "Name: count, dtype: int64\n",
      "\n",
      "Age\n",
      "43    31\n",
      "64    31\n",
      "57    30\n",
      "51    30\n",
      "34    28\n",
      "54    28\n",
      "22    27\n",
      "62    27\n",
      "42    26\n",
      "47    26\n",
      "46    25\n",
      "23    24\n",
      "40    24\n",
      "50    23\n",
      "27    23\n",
      "52    22\n",
      "60    22\n",
      "30    22\n",
      "26    22\n",
      "31    22\n",
      "35    22\n",
      "28    21\n",
      "41    21\n",
      "18    21\n",
      "55    21\n",
      "20    21\n",
      "19    21\n",
      "21    20\n",
      "25    20\n",
      "49    19\n",
      "56    19\n",
      "32    19\n",
      "38    19\n",
      "61    18\n",
      "39    18\n",
      "48    18\n",
      "63    17\n",
      "45    17\n",
      "59    17\n",
      "53    17\n",
      "29    16\n",
      "37    16\n",
      "36    15\n",
      "44    15\n",
      "24    15\n",
      "58    14\n",
      "33    10\n",
      "Name: count, dtype: int64\n"
     ]
    }
   ],
   "source": [
    "print(df['Product Category'].value_counts(),df['Gender'].value_counts(),df['Age'].value_counts(), sep = \"\\n\\n\")\n",
    "# print(df['Gender'].value_counts())\n"
   ]
  },
  {
   "cell_type": "code",
   "execution_count": 838,
   "id": "d5d660be-6669-40fc-89bf-7c6befc17c36",
   "metadata": {},
   "outputs": [
    {
     "data": {
      "text/plain": [
       "Transaction ID      0\n",
       "Date                0\n",
       "Customer ID         0\n",
       "Gender              0\n",
       "Age                 0\n",
       "Product Category    0\n",
       "Quantity            0\n",
       "Price per Unit      0\n",
       "Total Amount        0\n",
       "dtype: int64"
      ]
     },
     "execution_count": 838,
     "metadata": {},
     "output_type": "execute_result"
    }
   ],
   "source": [
    "df.isnull().sum()"
   ]
  },
  {
   "cell_type": "code",
   "execution_count": 839,
   "id": "1d97b906-1759-44a2-a319-0b2cb206ebde",
   "metadata": {},
   "outputs": [
    {
     "data": {
      "text/html": [
       "<div>\n",
       "<style scoped>\n",
       "    .dataframe tbody tr th:only-of-type {\n",
       "        vertical-align: middle;\n",
       "    }\n",
       "\n",
       "    .dataframe tbody tr th {\n",
       "        vertical-align: top;\n",
       "    }\n",
       "\n",
       "    .dataframe thead th {\n",
       "        text-align: right;\n",
       "    }\n",
       "</style>\n",
       "<table border=\"1\" class=\"dataframe\">\n",
       "  <thead>\n",
       "    <tr style=\"text-align: right;\">\n",
       "      <th></th>\n",
       "      <th>Age</th>\n",
       "      <th>Quantity</th>\n",
       "      <th>Price per Unit</th>\n",
       "      <th>Total Amount</th>\n",
       "    </tr>\n",
       "  </thead>\n",
       "  <tbody>\n",
       "    <tr>\n",
       "      <th>Age</th>\n",
       "      <td>1.000000</td>\n",
       "      <td>-0.023737</td>\n",
       "      <td>-0.038423</td>\n",
       "      <td>-0.060568</td>\n",
       "    </tr>\n",
       "    <tr>\n",
       "      <th>Quantity</th>\n",
       "      <td>-0.023737</td>\n",
       "      <td>1.000000</td>\n",
       "      <td>0.017501</td>\n",
       "      <td>0.373707</td>\n",
       "    </tr>\n",
       "    <tr>\n",
       "      <th>Price per Unit</th>\n",
       "      <td>-0.038423</td>\n",
       "      <td>0.017501</td>\n",
       "      <td>1.000000</td>\n",
       "      <td>0.851925</td>\n",
       "    </tr>\n",
       "    <tr>\n",
       "      <th>Total Amount</th>\n",
       "      <td>-0.060568</td>\n",
       "      <td>0.373707</td>\n",
       "      <td>0.851925</td>\n",
       "      <td>1.000000</td>\n",
       "    </tr>\n",
       "  </tbody>\n",
       "</table>\n",
       "</div>"
      ],
      "text/plain": [
       "                     Age  Quantity  Price per Unit  Total Amount\n",
       "Age             1.000000 -0.023737       -0.038423     -0.060568\n",
       "Quantity       -0.023737  1.000000        0.017501      0.373707\n",
       "Price per Unit -0.038423  0.017501        1.000000      0.851925\n",
       "Total Amount   -0.060568  0.373707        0.851925      1.000000"
      ]
     },
     "execution_count": 839,
     "metadata": {},
     "output_type": "execute_result"
    }
   ],
   "source": [
    "cor_matrix = df.drop(columns = \"Transaction ID\").select_dtypes(include = 'number').corr()\n",
    "cor_matrix"
   ]
  },
  {
   "cell_type": "code",
   "execution_count": 840,
   "id": "0435fe2c-a6fd-4b39-9b8e-8a2fbd55ffe9",
   "metadata": {},
   "outputs": [
    {
     "data": {
      "text/plain": [
       "0\n",
       "2023    998\n",
       "2024      2\n",
       "Name: count, dtype: int64"
      ]
     },
     "execution_count": 840,
     "metadata": {},
     "output_type": "execute_result"
    }
   ],
   "source": [
    "extracted_years = df['Date'].str.extract(r'(\\d{4})')\n",
    "\n",
    "# Step 2: Access the extracted column\n",
    "extracted_years_series = extracted_years[0]\n",
    "\n",
    "# Step 3: Get unique years\n",
    "unique_years = extracted_years_series.value_counts()\n",
    "unique_years\n",
    "\n",
    "\n",
    "\n",
    "#Because the dates are 1st january i will not remove those rows"
   ]
  },
  {
   "cell_type": "code",
   "execution_count": 841,
   "id": "06d992da-850c-4ce9-b059-eb54340f8e07",
   "metadata": {},
   "outputs": [
    {
     "data": {
      "text/html": [
       "<div>\n",
       "<style scoped>\n",
       "    .dataframe tbody tr th:only-of-type {\n",
       "        vertical-align: middle;\n",
       "    }\n",
       "\n",
       "    .dataframe tbody tr th {\n",
       "        vertical-align: top;\n",
       "    }\n",
       "\n",
       "    .dataframe thead th {\n",
       "        text-align: right;\n",
       "    }\n",
       "</style>\n",
       "<table border=\"1\" class=\"dataframe\">\n",
       "  <thead>\n",
       "    <tr style=\"text-align: right;\">\n",
       "      <th></th>\n",
       "      <th>Transaction ID</th>\n",
       "      <th>Date</th>\n",
       "      <th>Customer ID</th>\n",
       "      <th>Gender</th>\n",
       "      <th>Age</th>\n",
       "      <th>Product Category</th>\n",
       "      <th>Quantity</th>\n",
       "      <th>Price per Unit</th>\n",
       "      <th>Total Amount</th>\n",
       "    </tr>\n",
       "  </thead>\n",
       "  <tbody>\n",
       "    <tr>\n",
       "      <th>0</th>\n",
       "      <td>1</td>\n",
       "      <td>2023-11-24</td>\n",
       "      <td>CUST001</td>\n",
       "      <td>Male</td>\n",
       "      <td>34</td>\n",
       "      <td>Beauty</td>\n",
       "      <td>3</td>\n",
       "      <td>50</td>\n",
       "      <td>150</td>\n",
       "    </tr>\n",
       "    <tr>\n",
       "      <th>1</th>\n",
       "      <td>2</td>\n",
       "      <td>2023-02-27</td>\n",
       "      <td>CUST002</td>\n",
       "      <td>Female</td>\n",
       "      <td>26</td>\n",
       "      <td>Clothing</td>\n",
       "      <td>2</td>\n",
       "      <td>500</td>\n",
       "      <td>1000</td>\n",
       "    </tr>\n",
       "    <tr>\n",
       "      <th>2</th>\n",
       "      <td>3</td>\n",
       "      <td>2023-01-13</td>\n",
       "      <td>CUST003</td>\n",
       "      <td>Male</td>\n",
       "      <td>50</td>\n",
       "      <td>Electronics</td>\n",
       "      <td>1</td>\n",
       "      <td>30</td>\n",
       "      <td>30</td>\n",
       "    </tr>\n",
       "    <tr>\n",
       "      <th>3</th>\n",
       "      <td>4</td>\n",
       "      <td>2023-05-21</td>\n",
       "      <td>CUST004</td>\n",
       "      <td>Male</td>\n",
       "      <td>37</td>\n",
       "      <td>Clothing</td>\n",
       "      <td>1</td>\n",
       "      <td>500</td>\n",
       "      <td>500</td>\n",
       "    </tr>\n",
       "    <tr>\n",
       "      <th>4</th>\n",
       "      <td>5</td>\n",
       "      <td>2023-05-06</td>\n",
       "      <td>CUST005</td>\n",
       "      <td>Male</td>\n",
       "      <td>30</td>\n",
       "      <td>Beauty</td>\n",
       "      <td>2</td>\n",
       "      <td>50</td>\n",
       "      <td>100</td>\n",
       "    </tr>\n",
       "    <tr>\n",
       "      <th>5</th>\n",
       "      <td>6</td>\n",
       "      <td>2023-04-25</td>\n",
       "      <td>CUST006</td>\n",
       "      <td>Female</td>\n",
       "      <td>45</td>\n",
       "      <td>Beauty</td>\n",
       "      <td>1</td>\n",
       "      <td>30</td>\n",
       "      <td>30</td>\n",
       "    </tr>\n",
       "    <tr>\n",
       "      <th>6</th>\n",
       "      <td>7</td>\n",
       "      <td>2023-03-13</td>\n",
       "      <td>CUST007</td>\n",
       "      <td>Male</td>\n",
       "      <td>46</td>\n",
       "      <td>Clothing</td>\n",
       "      <td>2</td>\n",
       "      <td>25</td>\n",
       "      <td>50</td>\n",
       "    </tr>\n",
       "  </tbody>\n",
       "</table>\n",
       "</div>"
      ],
      "text/plain": [
       "   Transaction ID        Date Customer ID  Gender  Age Product Category  \\\n",
       "0               1  2023-11-24     CUST001    Male   34           Beauty   \n",
       "1               2  2023-02-27     CUST002  Female   26         Clothing   \n",
       "2               3  2023-01-13     CUST003    Male   50      Electronics   \n",
       "3               4  2023-05-21     CUST004    Male   37         Clothing   \n",
       "4               5  2023-05-06     CUST005    Male   30           Beauty   \n",
       "5               6  2023-04-25     CUST006  Female   45           Beauty   \n",
       "6               7  2023-03-13     CUST007    Male   46         Clothing   \n",
       "\n",
       "   Quantity  Price per Unit  Total Amount  \n",
       "0         3              50           150  \n",
       "1         2             500          1000  \n",
       "2         1              30            30  \n",
       "3         1             500           500  \n",
       "4         2              50           100  \n",
       "5         1              30            30  \n",
       "6         2              25            50  "
      ]
     },
     "execution_count": 841,
     "metadata": {},
     "output_type": "execute_result"
    }
   ],
   "source": [
    "df.head(7)"
   ]
  },
  {
   "cell_type": "code",
   "execution_count": 842,
   "id": "03b3210b-756c-4785-9ccb-6c1d8375ced4",
   "metadata": {},
   "outputs": [
    {
     "data": {
      "text/html": [
       "<div>\n",
       "<style scoped>\n",
       "    .dataframe tbody tr th:only-of-type {\n",
       "        vertical-align: middle;\n",
       "    }\n",
       "\n",
       "    .dataframe tbody tr th {\n",
       "        vertical-align: top;\n",
       "    }\n",
       "\n",
       "    .dataframe thead th {\n",
       "        text-align: right;\n",
       "    }\n",
       "</style>\n",
       "<table border=\"1\" class=\"dataframe\">\n",
       "  <thead>\n",
       "    <tr style=\"text-align: right;\">\n",
       "      <th></th>\n",
       "      <th>Date</th>\n",
       "      <th>Customer ID</th>\n",
       "      <th>Gender</th>\n",
       "    </tr>\n",
       "  </thead>\n",
       "  <tbody>\n",
       "    <tr>\n",
       "      <th>0</th>\n",
       "      <td>2023-11-24</td>\n",
       "      <td>CUST001</td>\n",
       "      <td>Male</td>\n",
       "    </tr>\n",
       "    <tr>\n",
       "      <th>2</th>\n",
       "      <td>2023-01-13</td>\n",
       "      <td>CUST003</td>\n",
       "      <td>Male</td>\n",
       "    </tr>\n",
       "    <tr>\n",
       "      <th>4</th>\n",
       "      <td>2023-05-06</td>\n",
       "      <td>CUST005</td>\n",
       "      <td>Male</td>\n",
       "    </tr>\n",
       "    <tr>\n",
       "      <th>6</th>\n",
       "      <td>2023-03-13</td>\n",
       "      <td>CUST007</td>\n",
       "      <td>Male</td>\n",
       "    </tr>\n",
       "  </tbody>\n",
       "</table>\n",
       "</div>"
      ],
      "text/plain": [
       "         Date Customer ID Gender\n",
       "0  2023-11-24     CUST001   Male\n",
       "2  2023-01-13     CUST003   Male\n",
       "4  2023-05-06     CUST005   Male\n",
       "6  2023-03-13     CUST007   Male"
      ]
     },
     "execution_count": 842,
     "metadata": {},
     "output_type": "execute_result"
    }
   ],
   "source": [
    "# print(extracted_years)\n",
    "df.loc[0:6:2, [\"Date\", \"Customer ID\", \"Gender\"]]"
   ]
  },
  {
   "cell_type": "code",
   "execution_count": 843,
   "id": "e0c1969c-b30c-4d93-a5b5-557bfc572213",
   "metadata": {},
   "outputs": [
    {
     "data": {
      "text/html": [
       "<div>\n",
       "<style scoped>\n",
       "    .dataframe tbody tr th:only-of-type {\n",
       "        vertical-align: middle;\n",
       "    }\n",
       "\n",
       "    .dataframe tbody tr th {\n",
       "        vertical-align: top;\n",
       "    }\n",
       "\n",
       "    .dataframe thead th {\n",
       "        text-align: right;\n",
       "    }\n",
       "</style>\n",
       "<table border=\"1\" class=\"dataframe\">\n",
       "  <thead>\n",
       "    <tr style=\"text-align: right;\">\n",
       "      <th></th>\n",
       "      <th>Transaction ID</th>\n",
       "      <th>Date</th>\n",
       "      <th>Customer ID</th>\n",
       "      <th>Gender</th>\n",
       "      <th>Age</th>\n",
       "      <th>Product Category</th>\n",
       "      <th>Quantity</th>\n",
       "      <th>Price per Unit</th>\n",
       "      <th>Total Amount</th>\n",
       "    </tr>\n",
       "  </thead>\n",
       "  <tbody>\n",
       "    <tr>\n",
       "      <th>210</th>\n",
       "      <td>211</td>\n",
       "      <td>2024-01-01</td>\n",
       "      <td>CUST211</td>\n",
       "      <td>Male</td>\n",
       "      <td>42</td>\n",
       "      <td>Beauty</td>\n",
       "      <td>3</td>\n",
       "      <td>500</td>\n",
       "      <td>1500</td>\n",
       "    </tr>\n",
       "    <tr>\n",
       "      <th>649</th>\n",
       "      <td>650</td>\n",
       "      <td>2024-01-01</td>\n",
       "      <td>CUST650</td>\n",
       "      <td>Male</td>\n",
       "      <td>55</td>\n",
       "      <td>Electronics</td>\n",
       "      <td>1</td>\n",
       "      <td>30</td>\n",
       "      <td>30</td>\n",
       "    </tr>\n",
       "  </tbody>\n",
       "</table>\n",
       "</div>"
      ],
      "text/plain": [
       "     Transaction ID        Date Customer ID Gender  Age Product Category  \\\n",
       "210             211  2024-01-01     CUST211   Male   42           Beauty   \n",
       "649             650  2024-01-01     CUST650   Male   55      Electronics   \n",
       "\n",
       "     Quantity  Price per Unit  Total Amount  \n",
       "210         3             500          1500  \n",
       "649         1              30            30  "
      ]
     },
     "execution_count": 843,
     "metadata": {},
     "output_type": "execute_result"
    }
   ],
   "source": [
    "# Step 4: Filter the DataFrame for the specific year (2024)\n",
    "filtered_df = df[extracted_years_series.astype(int) == 2024]\n",
    "filtered_df"
   ]
  },
  {
   "cell_type": "code",
   "execution_count": 844,
   "id": "9e212bd8-4e2c-4ab8-a8f3-7677c1481b01",
   "metadata": {},
   "outputs": [
    {
     "data": {
      "text/html": [
       "<div>\n",
       "<style scoped>\n",
       "    .dataframe tbody tr th:only-of-type {\n",
       "        vertical-align: middle;\n",
       "    }\n",
       "\n",
       "    .dataframe tbody tr th {\n",
       "        vertical-align: top;\n",
       "    }\n",
       "\n",
       "    .dataframe thead th {\n",
       "        text-align: right;\n",
       "    }\n",
       "</style>\n",
       "<table border=\"1\" class=\"dataframe\">\n",
       "  <thead>\n",
       "    <tr style=\"text-align: right;\">\n",
       "      <th></th>\n",
       "      <th>Transaction ID</th>\n",
       "      <th>Date</th>\n",
       "      <th>Customer ID</th>\n",
       "      <th>Gender</th>\n",
       "      <th>Age</th>\n",
       "      <th>Product Category</th>\n",
       "      <th>Quantity</th>\n",
       "      <th>Price per Unit</th>\n",
       "      <th>Total Amount</th>\n",
       "    </tr>\n",
       "  </thead>\n",
       "  <tbody>\n",
       "    <tr>\n",
       "      <th>0</th>\n",
       "      <td>NaN</td>\n",
       "      <td>NaN</td>\n",
       "      <td>NaN</td>\n",
       "      <td>NaN</td>\n",
       "      <td>NaN</td>\n",
       "      <td>NaN</td>\n",
       "      <td>NaN</td>\n",
       "      <td>NaN</td>\n",
       "      <td>NaN</td>\n",
       "    </tr>\n",
       "    <tr>\n",
       "      <th>1</th>\n",
       "      <td>NaN</td>\n",
       "      <td>NaN</td>\n",
       "      <td>NaN</td>\n",
       "      <td>NaN</td>\n",
       "      <td>NaN</td>\n",
       "      <td>NaN</td>\n",
       "      <td>NaN</td>\n",
       "      <td>NaN</td>\n",
       "      <td>NaN</td>\n",
       "    </tr>\n",
       "    <tr>\n",
       "      <th>2</th>\n",
       "      <td>NaN</td>\n",
       "      <td>NaN</td>\n",
       "      <td>NaN</td>\n",
       "      <td>NaN</td>\n",
       "      <td>NaN</td>\n",
       "      <td>NaN</td>\n",
       "      <td>NaN</td>\n",
       "      <td>NaN</td>\n",
       "      <td>NaN</td>\n",
       "    </tr>\n",
       "    <tr>\n",
       "      <th>3</th>\n",
       "      <td>NaN</td>\n",
       "      <td>NaN</td>\n",
       "      <td>NaN</td>\n",
       "      <td>NaN</td>\n",
       "      <td>NaN</td>\n",
       "      <td>NaN</td>\n",
       "      <td>NaN</td>\n",
       "      <td>NaN</td>\n",
       "      <td>NaN</td>\n",
       "    </tr>\n",
       "    <tr>\n",
       "      <th>4</th>\n",
       "      <td>NaN</td>\n",
       "      <td>NaN</td>\n",
       "      <td>NaN</td>\n",
       "      <td>NaN</td>\n",
       "      <td>NaN</td>\n",
       "      <td>NaN</td>\n",
       "      <td>NaN</td>\n",
       "      <td>NaN</td>\n",
       "      <td>NaN</td>\n",
       "    </tr>\n",
       "    <tr>\n",
       "      <th>...</th>\n",
       "      <td>...</td>\n",
       "      <td>...</td>\n",
       "      <td>...</td>\n",
       "      <td>...</td>\n",
       "      <td>...</td>\n",
       "      <td>...</td>\n",
       "      <td>...</td>\n",
       "      <td>...</td>\n",
       "      <td>...</td>\n",
       "    </tr>\n",
       "    <tr>\n",
       "      <th>995</th>\n",
       "      <td>NaN</td>\n",
       "      <td>NaN</td>\n",
       "      <td>NaN</td>\n",
       "      <td>NaN</td>\n",
       "      <td>NaN</td>\n",
       "      <td>NaN</td>\n",
       "      <td>NaN</td>\n",
       "      <td>NaN</td>\n",
       "      <td>NaN</td>\n",
       "    </tr>\n",
       "    <tr>\n",
       "      <th>996</th>\n",
       "      <td>NaN</td>\n",
       "      <td>NaN</td>\n",
       "      <td>NaN</td>\n",
       "      <td>NaN</td>\n",
       "      <td>NaN</td>\n",
       "      <td>NaN</td>\n",
       "      <td>NaN</td>\n",
       "      <td>NaN</td>\n",
       "      <td>NaN</td>\n",
       "    </tr>\n",
       "    <tr>\n",
       "      <th>997</th>\n",
       "      <td>NaN</td>\n",
       "      <td>NaN</td>\n",
       "      <td>NaN</td>\n",
       "      <td>NaN</td>\n",
       "      <td>NaN</td>\n",
       "      <td>NaN</td>\n",
       "      <td>NaN</td>\n",
       "      <td>NaN</td>\n",
       "      <td>NaN</td>\n",
       "    </tr>\n",
       "    <tr>\n",
       "      <th>998</th>\n",
       "      <td>NaN</td>\n",
       "      <td>NaN</td>\n",
       "      <td>NaN</td>\n",
       "      <td>NaN</td>\n",
       "      <td>NaN</td>\n",
       "      <td>NaN</td>\n",
       "      <td>NaN</td>\n",
       "      <td>NaN</td>\n",
       "      <td>NaN</td>\n",
       "    </tr>\n",
       "    <tr>\n",
       "      <th>999</th>\n",
       "      <td>NaN</td>\n",
       "      <td>NaN</td>\n",
       "      <td>NaN</td>\n",
       "      <td>NaN</td>\n",
       "      <td>NaN</td>\n",
       "      <td>NaN</td>\n",
       "      <td>NaN</td>\n",
       "      <td>NaN</td>\n",
       "      <td>NaN</td>\n",
       "    </tr>\n",
       "  </tbody>\n",
       "</table>\n",
       "<p>1000 rows × 9 columns</p>\n",
       "</div>"
      ],
      "text/plain": [
       "     Transaction ID Date Customer ID Gender  Age Product Category  Quantity  \\\n",
       "0               NaN  NaN         NaN    NaN  NaN              NaN       NaN   \n",
       "1               NaN  NaN         NaN    NaN  NaN              NaN       NaN   \n",
       "2               NaN  NaN         NaN    NaN  NaN              NaN       NaN   \n",
       "3               NaN  NaN         NaN    NaN  NaN              NaN       NaN   \n",
       "4               NaN  NaN         NaN    NaN  NaN              NaN       NaN   \n",
       "..              ...  ...         ...    ...  ...              ...       ...   \n",
       "995             NaN  NaN         NaN    NaN  NaN              NaN       NaN   \n",
       "996             NaN  NaN         NaN    NaN  NaN              NaN       NaN   \n",
       "997             NaN  NaN         NaN    NaN  NaN              NaN       NaN   \n",
       "998             NaN  NaN         NaN    NaN  NaN              NaN       NaN   \n",
       "999             NaN  NaN         NaN    NaN  NaN              NaN       NaN   \n",
       "\n",
       "     Price per Unit  Total Amount  \n",
       "0               NaN           NaN  \n",
       "1               NaN           NaN  \n",
       "2               NaN           NaN  \n",
       "3               NaN           NaN  \n",
       "4               NaN           NaN  \n",
       "..              ...           ...  \n",
       "995             NaN           NaN  \n",
       "996             NaN           NaN  \n",
       "997             NaN           NaN  \n",
       "998             NaN           NaN  \n",
       "999             NaN           NaN  \n",
       "\n",
       "[1000 rows x 9 columns]"
      ]
     },
     "execution_count": 844,
     "metadata": {},
     "output_type": "execute_result"
    }
   ],
   "source": [
    "df[extracted_years.astype(int) == 2024]"
   ]
  },
  {
   "cell_type": "code",
   "execution_count": 845,
   "id": "146a7b29-11df-445d-99af-00c29b05d9be",
   "metadata": {},
   "outputs": [
    {
     "name": "stdout",
     "output_type": "stream",
     "text": [
      "Index(['Transaction ID', 'Date', 'Customer ID', 'Gender', 'Age',\n",
      "       'Product Category', 'Quantity', 'Price per Unit', 'Total Amount'],\n",
      "      dtype='object')\n"
     ]
    }
   ],
   "source": [
    "print(df.columns)"
   ]
  },
  {
   "cell_type": "code",
   "execution_count": 846,
   "id": "4e0cb8cf-b6ab-47b6-bf00-880735482bbd",
   "metadata": {},
   "outputs": [
    {
     "data": {
      "text/html": [
       "<div>\n",
       "<style scoped>\n",
       "    .dataframe tbody tr th:only-of-type {\n",
       "        vertical-align: middle;\n",
       "    }\n",
       "\n",
       "    .dataframe tbody tr th {\n",
       "        vertical-align: top;\n",
       "    }\n",
       "\n",
       "    .dataframe thead th {\n",
       "        text-align: right;\n",
       "    }\n",
       "</style>\n",
       "<table border=\"1\" class=\"dataframe\">\n",
       "  <thead>\n",
       "    <tr style=\"text-align: right;\">\n",
       "      <th></th>\n",
       "      <th>Transaction ID</th>\n",
       "      <th>Date</th>\n",
       "      <th>Customer ID</th>\n",
       "      <th>Gender</th>\n",
       "      <th>Age</th>\n",
       "      <th>Product Category</th>\n",
       "      <th>Quantity</th>\n",
       "      <th>Price per Unit</th>\n",
       "      <th>Total Amount</th>\n",
       "    </tr>\n",
       "  </thead>\n",
       "  <tbody>\n",
       "    <tr>\n",
       "      <th>0</th>\n",
       "      <td>1</td>\n",
       "      <td>2023-11-24</td>\n",
       "      <td>CUST001</td>\n",
       "      <td>Male</td>\n",
       "      <td>34</td>\n",
       "      <td>Beauty</td>\n",
       "      <td>3</td>\n",
       "      <td>50</td>\n",
       "      <td>150</td>\n",
       "    </tr>\n",
       "    <tr>\n",
       "      <th>1</th>\n",
       "      <td>2</td>\n",
       "      <td>2023-02-27</td>\n",
       "      <td>CUST002</td>\n",
       "      <td>Female</td>\n",
       "      <td>26</td>\n",
       "      <td>Clothing</td>\n",
       "      <td>2</td>\n",
       "      <td>500</td>\n",
       "      <td>1000</td>\n",
       "    </tr>\n",
       "    <tr>\n",
       "      <th>2</th>\n",
       "      <td>3</td>\n",
       "      <td>2023-01-13</td>\n",
       "      <td>CUST003</td>\n",
       "      <td>Male</td>\n",
       "      <td>50</td>\n",
       "      <td>Electronics</td>\n",
       "      <td>1</td>\n",
       "      <td>30</td>\n",
       "      <td>30</td>\n",
       "    </tr>\n",
       "    <tr>\n",
       "      <th>3</th>\n",
       "      <td>4</td>\n",
       "      <td>2023-05-21</td>\n",
       "      <td>CUST004</td>\n",
       "      <td>Male</td>\n",
       "      <td>37</td>\n",
       "      <td>Clothing</td>\n",
       "      <td>1</td>\n",
       "      <td>500</td>\n",
       "      <td>500</td>\n",
       "    </tr>\n",
       "    <tr>\n",
       "      <th>4</th>\n",
       "      <td>5</td>\n",
       "      <td>2023-05-06</td>\n",
       "      <td>CUST005</td>\n",
       "      <td>Male</td>\n",
       "      <td>30</td>\n",
       "      <td>Beauty</td>\n",
       "      <td>2</td>\n",
       "      <td>50</td>\n",
       "      <td>100</td>\n",
       "    </tr>\n",
       "    <tr>\n",
       "      <th>5</th>\n",
       "      <td>6</td>\n",
       "      <td>2023-04-25</td>\n",
       "      <td>CUST006</td>\n",
       "      <td>Female</td>\n",
       "      <td>45</td>\n",
       "      <td>Beauty</td>\n",
       "      <td>1</td>\n",
       "      <td>30</td>\n",
       "      <td>30</td>\n",
       "    </tr>\n",
       "    <tr>\n",
       "      <th>6</th>\n",
       "      <td>7</td>\n",
       "      <td>2023-03-13</td>\n",
       "      <td>CUST007</td>\n",
       "      <td>Male</td>\n",
       "      <td>46</td>\n",
       "      <td>Clothing</td>\n",
       "      <td>2</td>\n",
       "      <td>25</td>\n",
       "      <td>50</td>\n",
       "    </tr>\n",
       "    <tr>\n",
       "      <th>7</th>\n",
       "      <td>8</td>\n",
       "      <td>2023-02-22</td>\n",
       "      <td>CUST008</td>\n",
       "      <td>Male</td>\n",
       "      <td>30</td>\n",
       "      <td>Electronics</td>\n",
       "      <td>4</td>\n",
       "      <td>25</td>\n",
       "      <td>100</td>\n",
       "    </tr>\n",
       "    <tr>\n",
       "      <th>8</th>\n",
       "      <td>9</td>\n",
       "      <td>2023-12-13</td>\n",
       "      <td>CUST009</td>\n",
       "      <td>Male</td>\n",
       "      <td>63</td>\n",
       "      <td>Electronics</td>\n",
       "      <td>2</td>\n",
       "      <td>300</td>\n",
       "      <td>600</td>\n",
       "    </tr>\n",
       "    <tr>\n",
       "      <th>9</th>\n",
       "      <td>10</td>\n",
       "      <td>2023-10-07</td>\n",
       "      <td>CUST010</td>\n",
       "      <td>Female</td>\n",
       "      <td>52</td>\n",
       "      <td>Clothing</td>\n",
       "      <td>4</td>\n",
       "      <td>50</td>\n",
       "      <td>200</td>\n",
       "    </tr>\n",
       "  </tbody>\n",
       "</table>\n",
       "</div>"
      ],
      "text/plain": [
       "   Transaction ID        Date Customer ID  Gender  Age Product Category  \\\n",
       "0               1  2023-11-24     CUST001    Male   34           Beauty   \n",
       "1               2  2023-02-27     CUST002  Female   26         Clothing   \n",
       "2               3  2023-01-13     CUST003    Male   50      Electronics   \n",
       "3               4  2023-05-21     CUST004    Male   37         Clothing   \n",
       "4               5  2023-05-06     CUST005    Male   30           Beauty   \n",
       "5               6  2023-04-25     CUST006  Female   45           Beauty   \n",
       "6               7  2023-03-13     CUST007    Male   46         Clothing   \n",
       "7               8  2023-02-22     CUST008    Male   30      Electronics   \n",
       "8               9  2023-12-13     CUST009    Male   63      Electronics   \n",
       "9              10  2023-10-07     CUST010  Female   52         Clothing   \n",
       "\n",
       "   Quantity  Price per Unit  Total Amount  \n",
       "0         3              50           150  \n",
       "1         2             500          1000  \n",
       "2         1              30            30  \n",
       "3         1             500           500  \n",
       "4         2              50           100  \n",
       "5         1              30            30  \n",
       "6         2              25            50  \n",
       "7         4              25           100  \n",
       "8         2             300           600  \n",
       "9         4              50           200  "
      ]
     },
     "execution_count": 846,
     "metadata": {},
     "output_type": "execute_result"
    }
   ],
   "source": [
    "df.head(10)"
   ]
  },
  {
   "cell_type": "markdown",
   "id": "1ffbd45e-0c41-404b-bf29-44a120a41653",
   "metadata": {},
   "source": [
    "# Data Cleaning and Data Visualisations"
   ]
  },
  {
   "cell_type": "code",
   "execution_count": 847,
   "id": "c9c979fd-ad9f-408c-9d57-6baa332eadb8",
   "metadata": {},
   "outputs": [],
   "source": [
    "df = df.drop(columns = [\"Customer ID\", \"Transaction ID\"])\n",
    "df.rename(columns={\"Product Category\": \"Category\"}, inplace=True)"
   ]
  },
  {
   "cell_type": "markdown",
   "id": "d28a0bb9-8ea6-4f91-a8fa-a3329a814fb8",
   "metadata": {},
   "source": [
    "#### Task 1: Add Month and Day column and convert column Date to datetime type"
   ]
  },
  {
   "cell_type": "code",
   "execution_count": 848,
   "id": "9fac45db-6e8e-4561-ab8e-bb9cb0b2909b",
   "metadata": {},
   "outputs": [],
   "source": [
    "df[\"Month\"] = df[\"Date\"].str[5:7]\n",
    "df[\"Month\"] = df[\"Month\"].astype('int32')\n",
    "df[\"Date\"] = pd.to_datetime(df[\"Date\"], format = \"%Y-%m-%d\")\n",
    "df[\"Day\"] = df[\"Date\"].dt.day_name()"
   ]
  },
  {
   "cell_type": "code",
   "execution_count": null,
   "id": "c5951073-dbc3-4f72-a18a-d403365f72b6",
   "metadata": {},
   "outputs": [],
   "source": []
  },
  {
   "cell_type": "markdown",
   "id": "e4630a4f-c41c-4bca-a4c3-11a8c1560da5",
   "metadata": {},
   "source": [
    "#### Task 2: Add age group"
   ]
  },
  {
   "cell_type": "code",
   "execution_count": 849,
   "id": "655ca040-81ff-4614-9072-ed3ee9bcd3b1",
   "metadata": {},
   "outputs": [
    {
     "name": "stderr",
     "output_type": "stream",
     "text": [
      "C:\\Users\\Acer\\AppData\\Local\\Temp\\ipykernel_6620\\2012800016.py:5: FutureWarning: The default of observed=False is deprecated and will be changed to True in a future version of pandas. Pass observed=False to retain current behavior or observed=True to adopt the future default and silence this warning.\n",
      "  quantity_by_age_gender = df.groupby(['Age Group', 'Gender'])['Quantity'].sum().unstack()\n",
      "C:\\Users\\Acer\\AppData\\Local\\Temp\\ipykernel_6620\\2012800016.py:6: FutureWarning: The default of observed=False is deprecated and will be changed to True in a future version of pandas. Pass observed=False to retain current behavior or observed=True to adopt the future default and silence this warning.\n",
      "  total_amount_by_age_gender = df.groupby(['Age Group', 'Gender'])['Total Amount'].sum().unstack()\n"
     ]
    }
   ],
   "source": [
    "ages = list(df[\"Age\"])\n",
    "bins = [18,27,37,47,57,64]\n",
    "labels = ['18 - 27', '28 - 37','38 - 47', '48 - 57', '58 - 64']\n",
    "df['Age Group'] = pd.cut(df['Age'], bins = bins, labels = labels)\n",
    "quantity_by_age_gender = df.groupby(['Age Group', 'Gender'])['Quantity'].sum().unstack()\n",
    "total_amount_by_age_gender = df.groupby(['Age Group', 'Gender'])['Total Amount'].sum().unstack()"
   ]
  },
  {
   "cell_type": "markdown",
   "id": "b6482b77-d0ff-4d2c-b68e-5ac582ee84b4",
   "metadata": {},
   "source": [
    "#### Task 3: Add Months Quartiles"
   ]
  },
  {
   "cell_type": "code",
   "execution_count": 850,
   "id": "d46ac5d8-7f28-4390-8ff9-800b236dd36f",
   "metadata": {},
   "outputs": [
    {
     "name": "stderr",
     "output_type": "stream",
     "text": [
      "C:\\Users\\Acer\\AppData\\Local\\Temp\\ipykernel_6620\\1456453391.py:2: FutureWarning: The default of observed=False is deprecated and will be changed to True in a future version of pandas. Pass observed=False to retain current behavior or observed=True to adopt the future default and silence this warning.\n",
      "  total_amount_by_quartile = df.groupby('Quartile')['Total Amount'].sum()\n"
     ]
    }
   ],
   "source": [
    "df['Quartile'] = pd.cut(df['Month'],bins = [0,3,6,9,12], labels=['Q1', 'Q2', 'Q3', 'Q4'])\n",
    "total_amount_by_quartile = df.groupby('Quartile')['Total Amount'].sum()"
   ]
  },
  {
   "cell_type": "markdown",
   "id": "a0d10ec7-d4be-47f8-a6f8-0346136d5a67",
   "metadata": {},
   "source": [
    "#### Task 4: Grouping data by Categories and Total Amounts"
   ]
  },
  {
   "cell_type": "code",
   "execution_count": 851,
   "id": "3d8c6f84-00c7-4f0f-ac66-2e53d8e90e6b",
   "metadata": {},
   "outputs": [],
   "source": [
    "cat_quantity = df.groupby('Category')['Quantity'].sum()\n",
    "cat_total = df.groupby('Category')['Total Amount'].sum().reset_index()"
   ]
  },
  {
   "cell_type": "markdown",
   "id": "8c9305f1-120f-4bf0-8c08-cad5c0037152",
   "metadata": {},
   "source": [
    "#### Task 5: Grouping data by Categories,Total Amount and Age Group"
   ]
  },
  {
   "cell_type": "code",
   "execution_count": 852,
   "id": "da7c0f77-5be7-4484-a911-ccc02326bd65",
   "metadata": {},
   "outputs": [
    {
     "name": "stderr",
     "output_type": "stream",
     "text": [
      "C:\\Users\\Acer\\AppData\\Local\\Temp\\ipykernel_6620\\1669976422.py:1: FutureWarning: The default of observed=False is deprecated and will be changed to True in a future version of pandas. Pass observed=False to retain current behavior or observed=True to adopt the future default and silence this warning.\n",
      "  cat_age_quantity = df.groupby(['Age Group', 'Category'])['Quantity'].sum().unstack()\n",
      "C:\\Users\\Acer\\AppData\\Local\\Temp\\ipykernel_6620\\1669976422.py:2: FutureWarning: The default of observed=False is deprecated and will be changed to True in a future version of pandas. Pass observed=False to retain current behavior or observed=True to adopt the future default and silence this warning.\n",
      "  cat_age_total = df.groupby(['Age Group', 'Category'])['Total Amount'].sum().unstack()\n"
     ]
    }
   ],
   "source": [
    "cat_age_quantity = df.groupby(['Age Group', 'Category'])['Quantity'].sum().unstack()\n",
    "cat_age_total = df.groupby(['Age Group', 'Category'])['Total Amount'].sum().unstack()\n"
   ]
  },
  {
   "cell_type": "code",
   "execution_count": null,
   "id": "0b1c4157-de4d-4b34-a4d0-546234b70a40",
   "metadata": {},
   "outputs": [],
   "source": []
  },
  {
   "cell_type": "markdown",
   "id": "92fa873b-a379-4328-933d-5f3d070cd914",
   "metadata": {},
   "source": [
    "#### Question 1: How does customer age and gender influence their purchasing behavior?"
   ]
  },
  {
   "cell_type": "code",
   "execution_count": 853,
   "id": "405732d1-1ae0-457a-aa22-29fe6e6f2302",
   "metadata": {},
   "outputs": [
    {
     "name": "stderr",
     "output_type": "stream",
     "text": [
      "C:\\Users\\Acer\\AppData\\Local\\Temp\\ipykernel_6620\\1991933578.py:1: FutureWarning: The default of observed=False is deprecated and will be changed to True in a future version of pandas. Pass observed=False to retain current behavior or observed=True to adopt the future default and silence this warning.\n",
      "  grouped_age = df.groupby('Age Group')['Total Amount'].sum().reset_index()\n"
     ]
    },
    {
     "data": {
      "image/png": "[encoded data removed]",
      "text/plain": [
       "<Figure size 1000x600 with 1 Axes>"
      ]
     },
     "metadata": {},
     "output_type": "display_data"
    }
   ],
   "source": [
    "grouped_age = df.groupby('Age Group')['Total Amount'].sum().reset_index()\n",
    "\n",
    "plt.figure(figsize=(10, 6))\n",
    "plt.bar(grouped_age['Age Group'], grouped_age['Total Amount'], color='skyblue')\n",
    "# plt.xlabel('Age Group')\n",
    "# plt.ylabel('Total Amount')\n",
    "plt.title('Total Amount by Age Group')\n",
    "plt.xticks(rotation=0)\n",
    "plt.show()"
   ]
  },
  {
   "cell_type": "code",
   "execution_count": 854,
   "id": "84168923-3b67-4dc6-b287-51877139ee0b",
   "metadata": {},
   "outputs": [
    {
     "name": "stderr",
     "output_type": "stream",
     "text": [
      "C:\\Users\\Acer\\AppData\\Local\\Temp\\ipykernel_6620\\1294982774.py:16: UserWarning: set_ticklabels() should only be used with a fixed number of ticks, i.e. after set_ticks() or using a FixedLocator.\n",
      "  ax.set_xticklabels([''])\n"
     ]
    },
    {
     "data": {
      "image/png": "[encoded data removed]",
      "text/plain": [
       "<Figure size 1000x600 with 1 Axes>"
      ]
     },
     "metadata": {},
     "output_type": "display_data"
    }
   ],
   "source": [
    "grouped_age = df.groupby('Gender')['Total Amount'].sum().reset_index()\n",
    "\n",
    "plt.figure(figsize=(10, 6))\n",
    "colors = sns.color_palette(\"pastel\")\n",
    "bars_female = plt.bar(grouped_age[grouped_age['Gender'] == 'Female']['Gender'], \n",
    "                      grouped_age[grouped_age['Gender'] == 'Female']['Total Amount'], \n",
    "                      color=colors[1], width=0.7, label='Female')\n",
    "\n",
    "bars_male = plt.bar(grouped_age[grouped_age['Gender'] == 'Male']['Gender'], \n",
    "                    grouped_age[grouped_age['Gender'] == 'Male']['Total Amount'], \n",
    "                    color=colors[0], width=0.7, label='Male')\n",
    "plt.legend(loc='upper right')\n",
    "plt.title('Total Amount by Gender', fontsize=16)\n",
    "plt.xticks(rotation=0)\n",
    "ax = plt.gca()\n",
    "ax.set_xticklabels([''])\n",
    "plt.show()"
   ]
  },
  {
   "cell_type": "code",
   "execution_count": 855,
   "id": "9cd38d3a-0e89-4e53-a53c-63d3a902a12f",
   "metadata": {},
   "outputs": [
    {
     "data": {
      "text/plain": [
       "<Figure size 800x1000 with 0 Axes>"
      ]
     },
     "metadata": {},
     "output_type": "display_data"
    },
    {
     "data": {
      "image/png": "[encoded data removed]",
      "text/plain": [
       "<Figure size 640x480 with 1 Axes>"
      ]
     },
     "metadata": {},
     "output_type": "display_data"
    }
   ],
   "source": [
    "plt.figure(figsize=(8, 10))\n",
    "total_amount_by_age_gender.plot(kind='bar', color = ['lightpink', 'skyblue'])\n",
    "plt.title('Total Amount by Age Group and Gender')\n",
    "plt.xlabel('')\n",
    "plt.ylabel('Total Amount')\n",
    "plt.legend(title='Gender')\n",
    "plt.xticks(rotation=0)\n",
    "plt.show()"
   ]
  },
  {
   "cell_type": "code",
   "execution_count": 856,
   "id": "c465e846-f1e7-48d0-9fef-8da560ca952a",
   "metadata": {},
   "outputs": [
    {
     "data": {
      "text/plain": [
       "<Figure size 1200x600 with 0 Axes>"
      ]
     },
     "metadata": {},
     "output_type": "display_data"
    },
    {
     "data": {
      "image/png": "[encoded data removed]",
      "text/plain": [
       "<Figure size 640x480 with 1 Axes>"
      ]
     },
     "metadata": {},
     "output_type": "display_data"
    }
   ],
   "source": [
    "plt.figure(figsize=(12, 6))\n",
    "quantity_by_age_gender.plot(kind='bar',color = ['coral', 'mediumturquoise'])\n",
    "plt.title('Sales by Age Group and Gender')\n",
    "plt.xlabel('')\n",
    "plt.ylabel('Quantity')\n",
    "plt.legend(title='Gender')\n",
    "plt.xticks(rotation = 0)\n",
    "plt.show()"
   ]
  },
  {
   "cell_type": "markdown",
   "id": "f130d52d-977f-4b7e-9cfc-20429dbdcd48",
   "metadata": {},
   "source": [
    "#### Question 2: Are there noticiable patterns in sales across different time periods?\r\n"
   ]
  },
  {
   "cell_type": "markdown",
   "id": "09adfd94-395a-468f-b830-60c44d3089d1",
   "metadata": {},
   "source": [
    "* Visualization of Total Amount by Month"
   ]
  },
  {
   "cell_type": "code",
   "execution_count": 857,
   "id": "df9c0c2c-e7b2-4f0e-87af-1a073ccde34c",
   "metadata": {},
   "outputs": [
    {
     "data": {
      "image/png": "[encoded data removed]",
      "text/plain": [
       "<Figure size 1000x600 with 1 Axes>"
      ]
     },
     "metadata": {},
     "output_type": "display_data"
    }
   ],
   "source": [
    "result = df.groupby('Month')['Total Amount'].sum()\n",
    "months = range(1, 13)\n",
    "labels = ['Jan', 'Feb', 'Mar', 'Apr', 'May', 'Jun', 'Jul', 'Aug', 'Sep', 'Oct', 'Nov', 'Dec']\n",
    "plt.figure(figsize=(10, 6))\n",
    "plt.bar(months, result.reindex(months, fill_value=0), color='green',edgecolor = 'black')\n",
    "plt.xticks(months, labels)\n",
    "plt.title('Total Amount by Month')\n",
    "plt.xlabel('Months')\n",
    "plt.ylabel('Total Amount')\n",
    "\n",
    "plt.show()"
   ]
  },
  {
   "cell_type": "markdown",
   "id": "7decd773-e1da-4a93-9a13-08e18fb11899",
   "metadata": {},
   "source": [
    "* Visualisation of Total Amount by Quartiles"
   ]
  },
  {
   "cell_type": "code",
   "execution_count": 858,
   "id": "9f703240-f305-4aeb-8c3b-ce9ce213ee91",
   "metadata": {},
   "outputs": [
    {
     "data": {
      "image/png": "[encoded data removed]",
      "text/plain": [
       "<Figure size 1000x600 with 1 Axes>"
      ]
     },
     "metadata": {},
     "output_type": "display_data"
    }
   ],
   "source": [
    "plt.figure(figsize=(10, 6))\n",
    "total_amount_by_quartile.plot(kind='bar', color='skyblue', edgecolor='black', width = 0.8)\n",
    "plt.title('Total Amount by Quartiles')\n",
    "plt.xlabel('')\n",
    "# plt.ylabel('Total Amount')\n",
    "plt.xticks(rotation = 0)\n",
    "plt.show()"
   ]
  },
  {
   "cell_type": "markdown",
   "id": "582c9e2e-2866-4f12-86be-4d0bcc6a061d",
   "metadata": {},
   "source": [
    "#### Question 3: Which product categories hold the highest appeal among customers?"
   ]
  },
  {
   "cell_type": "code",
   "execution_count": 859,
   "id": "f1d1f017-5599-4aef-9e21-3a403f71d65a",
   "metadata": {},
   "outputs": [
    {
     "data": {
      "image/png": "[encoded data removed]",
      "text/plain": [
       "<Figure size 640x480 with 1 Axes>"
      ]
     },
     "metadata": {},
     "output_type": "display_data"
    }
   ],
   "source": [
    "ax = plt.subplot()\n",
    "explode = (0,0.1,0)\n",
    "ax.pie(cat_quantity, explode = explode, labels=cat_quantity.index, autopct='%1.1f%%', startangle=-45)\n",
    "plt.title(\"Distribution of Customer Preferences by Product Category\")\n",
    "plt.show()"
   ]
  },
  {
   "cell_type": "code",
   "execution_count": 860,
   "id": "d2f13464-d44c-45c6-aeae-af260d7a860e",
   "metadata": {},
   "outputs": [
    {
     "data": {
      "image/png": "[encoded data removed]",
      "text/plain": [
       "<Figure size 1000x600 with 1 Axes>"
      ]
     },
     "metadata": {},
     "output_type": "display_data"
    }
   ],
   "source": [
    "plt.figure(figsize=(10, 6))\n",
    "bars = plt.bar(cat_total.index, cat_total['Total Amount'], color = ['darkorange', 'green', 'blue'], edgecolor='black', width=0.8)\n",
    "plt.legend(bars, cat_total['Category'], bbox_to_anchor=(1.05, 1))\n",
    "plt.title('Total Amount by Product Category')\n",
    "plt.xlabel('')\n",
    "# Add x-axis tick labels with category names\n",
    "plt.xticks(ticks=cat_total.index, labels=cat_total['Category'], rotation=0)\n",
    "# Show the plot\n",
    "plt.show()"
   ]
  },
  {
   "cell_type": "markdown",
   "id": "905aae8b-04f1-4340-9113-0c4a70dd3791",
   "metadata": {},
   "source": [
    "#### Question 4: What are the relationships between age, spending, and product preferences?\n"
   ]
  },
  {
   "cell_type": "code",
   "execution_count": 861,
   "id": "c3b3cd0f-10be-4b35-a2f7-26ca1cfb5c23",
   "metadata": {},
   "outputs": [
    {
     "data": {
      "image/png": "[encoded data removed]",
      "text/plain": [
       "<Figure size 800x600 with 1 Axes>"
      ]
     },
     "metadata": {},
     "output_type": "display_data"
    }
   ],
   "source": [
    "cat_age_quantity.plot(kind = 'bar',figsize = (8, 6),edgecolor = 'black')\n",
    "plt.title('Quantity Sold by Age Group and Category')\n",
    "plt.xlabel(\"Age Group\")\n",
    "# plt.ylabel(\"Quantity Sold\")\n",
    "plt.legend(title = 'Product Category')\n",
    "plt.xticks(rotation = 0)\n",
    "plt.show()"
   ]
  },
  {
   "cell_type": "code",
   "execution_count": 862,
   "id": "7663586b-bb65-4781-891b-0f4a108fca6a",
   "metadata": {},
   "outputs": [
    {
     "data": {
      "image/png": "[encoded data removed]",
      "text/plain": [
       "<Figure size 800x600 with 1 Axes>"
      ]
     },
     "metadata": {},
     "output_type": "display_data"
    }
   ],
   "source": [
    "cat_age_total.plot(kind = 'bar',figsize = (8, 6),edgecolor = 'black', color = ['violet','skyblue', 'greenyellow'])\n",
    "plt.title('Total Amount by Age Group and Category')\n",
    "plt.xlabel(\"Age Group\")\n",
    "plt.ylabel(\"\")\n",
    "plt.legend(title = 'Product Category')\n",
    "plt.xticks(rotation = 0)\n",
    "plt.show()"
   ]
  },
  {
   "cell_type": "code",
   "execution_count": null,
   "id": "2a341b6e-1a83-4994-bf43-7c9a746730bf",
   "metadata": {},
   "outputs": [],
   "source": []
  },
  {
   "cell_type": "code",
   "execution_count": null,
   "id": "49b88bf4-4ef2-41ae-8f24-acc37a7ef84b",
   "metadata": {},
   "outputs": [],
   "source": []
  },
  {
   "cell_type": "code",
   "execution_count": null,
   "id": "87c079fe-d401-456e-8565-4c3e8479c84c",
   "metadata": {},
   "outputs": [],
   "source": []
  },
  {
   "cell_type": "code",
   "execution_count": null,
   "id": "74bcbe20-7582-4882-b9df-45ca481a30f9",
   "metadata": {},
   "outputs": [],
   "source": []
  },
  {
   "cell_type": "code",
   "execution_count": null,
   "id": "be97374e-07e3-4263-bac6-9a59f6cf407f",
   "metadata": {},
   "outputs": [],
   "source": []
  },
  {
   "cell_type": "code",
   "execution_count": 863,
   "id": "1faaa42b-a759-4db4-909b-8b626a068bcb",
   "metadata": {},
   "outputs": [
    {
     "name": "stdout",
     "output_type": "stream",
     "text": [
      "0.9052551494787622\n"
     ]
    }
   ],
   "source": [
    "x = 0.25**4 * 0.75**16 * 20 + 0.25**3 * 0.75**17 * 20 + 0.25**2 * 0.75**18 * 20 + 0.25 **1 * 0.75**19 * 20 + 0.75**20 * 20\n",
    "print(1 - x)"
   ]
  },
  {
   "cell_type": "code",
   "execution_count": null,
   "id": "ab79bd80-2314-4840-a95d-0e435426bae5",
   "metadata": {},
   "outputs": [],
   "source": []
  },
  {
   "cell_type": "code",
   "execution_count": null,
   "id": "88214ac6-11c2-4579-b614-2a72e0f80533",
   "metadata": {},
   "outputs": [],
   "source": []
  },
  {
   "cell_type": "code",
   "execution_count": 864,
   "id": "6f12d82a-36c3-4057-898b-18199f033bbb",
   "metadata": {},
   "outputs": [],
   "source": [
    "# gender_counts = df['Gender'].value_counts().reset_index()\n",
    "# gender_counts.columns = ['Gender', 'Count']\n",
    "\n",
    "# # Создаем столбчатую диаграмму\n",
    "# sns.barplot(x='Gender', y='Count', data=gender_counts, color = \"blue\"\n",
    "# plt.title('Count of Clients by Gender')\n",
    "# plt.xlabel('Gender')\n",
    "# plt.ylabel('Count')\n",
    "# plt.show()"
   ]
  },
  {
   "cell_type": "code",
   "execution_count": 865,
   "id": "502655f2-451b-43bc-bb94-53910a8443e9",
   "metadata": {},
   "outputs": [
    {
     "ename": "ValueError",
     "evalue": "Could not interpret input 'Category'",
     "output_type": "error",
     "traceback": [
      "\u001b[1;31m---------------------------------------------------------------------------\u001b[0m",
      "\u001b[1;31mValueError\u001b[0m                                Traceback (most recent call last)",
      "Cell \u001b[1;32mIn[865], line 8\u001b[0m\n\u001b[0;32m      5\u001b[0m fig, axs \u001b[38;5;241m=\u001b[39m plt\u001b[38;5;241m.\u001b[39msubplots(\u001b[38;5;241m2\u001b[39m, \u001b[38;5;241m2\u001b[39m, figsize\u001b[38;5;241m=\u001b[39m(\u001b[38;5;241m14\u001b[39m, \u001b[38;5;241m12\u001b[39m))\n\u001b[0;32m      7\u001b[0m \u001b[38;5;66;03m# Гистограмма: Сумма количеств по категориям продуктов\u001b[39;00m\n\u001b[1;32m----> 8\u001b[0m \u001b[43msns\u001b[49m\u001b[38;5;241;43m.\u001b[39;49m\u001b[43mbarplot\u001b[49m\u001b[43m(\u001b[49m\u001b[43mx\u001b[49m\u001b[38;5;241;43m=\u001b[39;49m\u001b[38;5;124;43m'\u001b[39;49m\u001b[38;5;124;43mCategory\u001b[39;49m\u001b[38;5;124;43m'\u001b[39;49m\u001b[43m,\u001b[49m\u001b[43m \u001b[49m\u001b[43my\u001b[49m\u001b[38;5;241;43m=\u001b[39;49m\u001b[38;5;124;43m'\u001b[39;49m\u001b[38;5;124;43mQuantity\u001b[39;49m\u001b[38;5;124;43m'\u001b[39;49m\u001b[43m,\u001b[49m\u001b[43m \u001b[49m\u001b[43mdata\u001b[49m\u001b[38;5;241;43m=\u001b[39;49m\u001b[43mcat_quantity\u001b[49m\u001b[43m,\u001b[49m\u001b[43m \u001b[49m\u001b[43mcolor\u001b[49m\u001b[38;5;241;43m=\u001b[39;49m\u001b[38;5;124;43m'\u001b[39;49m\u001b[38;5;124;43mblue\u001b[39;49m\u001b[38;5;124;43m'\u001b[39;49m\u001b[43m,\u001b[49m\u001b[43m \u001b[49m\u001b[43max\u001b[49m\u001b[38;5;241;43m=\u001b[39;49m\u001b[43maxs\u001b[49m\u001b[43m[\u001b[49m\u001b[38;5;241;43m0\u001b[39;49m\u001b[43m,\u001b[49m\u001b[43m \u001b[49m\u001b[38;5;241;43m0\u001b[39;49m\u001b[43m]\u001b[49m\u001b[43m)\u001b[49m\n\u001b[0;32m      9\u001b[0m axs[\u001b[38;5;241m0\u001b[39m, \u001b[38;5;241m0\u001b[39m]\u001b[38;5;241m.\u001b[39mset_title(\u001b[38;5;124m\"\u001b[39m\u001b[38;5;124mSum of Quantities by Product Category\u001b[39m\u001b[38;5;124m\"\u001b[39m)\n\u001b[0;32m     11\u001b[0m \u001b[38;5;66;03m# Гистограмма: Сумма общей суммы по категориям продуктов\u001b[39;00m\n",
      "File \u001b[1;32m~\\anaconda3\\Lib\\site-packages\\seaborn\\categorical.py:2755\u001b[0m, in \u001b[0;36mbarplot\u001b[1;34m(data, x, y, hue, order, hue_order, estimator, errorbar, n_boot, units, seed, orient, color, palette, saturation, width, errcolor, errwidth, capsize, dodge, ci, ax, **kwargs)\u001b[0m\n\u001b[0;32m   2752\u001b[0m \u001b[38;5;28;01mif\u001b[39;00m estimator \u001b[38;5;129;01mis\u001b[39;00m \u001b[38;5;28mlen\u001b[39m:\n\u001b[0;32m   2753\u001b[0m     estimator \u001b[38;5;241m=\u001b[39m \u001b[38;5;124m\"\u001b[39m\u001b[38;5;124msize\u001b[39m\u001b[38;5;124m\"\u001b[39m\n\u001b[1;32m-> 2755\u001b[0m plotter \u001b[38;5;241m=\u001b[39m \u001b[43m_BarPlotter\u001b[49m\u001b[43m(\u001b[49m\u001b[43mx\u001b[49m\u001b[43m,\u001b[49m\u001b[43m \u001b[49m\u001b[43my\u001b[49m\u001b[43m,\u001b[49m\u001b[43m \u001b[49m\u001b[43mhue\u001b[49m\u001b[43m,\u001b[49m\u001b[43m \u001b[49m\u001b[43mdata\u001b[49m\u001b[43m,\u001b[49m\u001b[43m \u001b[49m\u001b[43morder\u001b[49m\u001b[43m,\u001b[49m\u001b[43m \u001b[49m\u001b[43mhue_order\u001b[49m\u001b[43m,\u001b[49m\n\u001b[0;32m   2756\u001b[0m \u001b[43m                      \u001b[49m\u001b[43mestimator\u001b[49m\u001b[43m,\u001b[49m\u001b[43m \u001b[49m\u001b[43merrorbar\u001b[49m\u001b[43m,\u001b[49m\u001b[43m \u001b[49m\u001b[43mn_boot\u001b[49m\u001b[43m,\u001b[49m\u001b[43m \u001b[49m\u001b[43munits\u001b[49m\u001b[43m,\u001b[49m\u001b[43m \u001b[49m\u001b[43mseed\u001b[49m\u001b[43m,\u001b[49m\n\u001b[0;32m   2757\u001b[0m \u001b[43m                      \u001b[49m\u001b[43morient\u001b[49m\u001b[43m,\u001b[49m\u001b[43m \u001b[49m\u001b[43mcolor\u001b[49m\u001b[43m,\u001b[49m\u001b[43m \u001b[49m\u001b[43mpalette\u001b[49m\u001b[43m,\u001b[49m\u001b[43m \u001b[49m\u001b[43msaturation\u001b[49m\u001b[43m,\u001b[49m\n\u001b[0;32m   2758\u001b[0m \u001b[43m                      \u001b[49m\u001b[43mwidth\u001b[49m\u001b[43m,\u001b[49m\u001b[43m \u001b[49m\u001b[43merrcolor\u001b[49m\u001b[43m,\u001b[49m\u001b[43m \u001b[49m\u001b[43merrwidth\u001b[49m\u001b[43m,\u001b[49m\u001b[43m \u001b[49m\u001b[43mcapsize\u001b[49m\u001b[43m,\u001b[49m\u001b[43m \u001b[49m\u001b[43mdodge\u001b[49m\u001b[43m)\u001b[49m\n\u001b[0;32m   2760\u001b[0m \u001b[38;5;28;01mif\u001b[39;00m ax \u001b[38;5;129;01mis\u001b[39;00m \u001b[38;5;28;01mNone\u001b[39;00m:\n\u001b[0;32m   2761\u001b[0m     ax \u001b[38;5;241m=\u001b[39m plt\u001b[38;5;241m.\u001b[39mgca()\n",
      "File \u001b[1;32m~\\anaconda3\\Lib\\site-packages\\seaborn\\categorical.py:1530\u001b[0m, in \u001b[0;36m_BarPlotter.__init__\u001b[1;34m(self, x, y, hue, data, order, hue_order, estimator, errorbar, n_boot, units, seed, orient, color, palette, saturation, width, errcolor, errwidth, capsize, dodge)\u001b[0m\n\u001b[0;32m   1525\u001b[0m \u001b[38;5;28;01mdef\u001b[39;00m \u001b[38;5;21m__init__\u001b[39m(\u001b[38;5;28mself\u001b[39m, x, y, hue, data, order, hue_order,\n\u001b[0;32m   1526\u001b[0m              estimator, errorbar, n_boot, units, seed,\n\u001b[0;32m   1527\u001b[0m              orient, color, palette, saturation, width,\n\u001b[0;32m   1528\u001b[0m              errcolor, errwidth, capsize, dodge):\n\u001b[0;32m   1529\u001b[0m \u001b[38;5;250m    \u001b[39m\u001b[38;5;124;03m\"\"\"Initialize the plotter.\"\"\"\u001b[39;00m\n\u001b[1;32m-> 1530\u001b[0m     \u001b[38;5;28;43mself\u001b[39;49m\u001b[38;5;241;43m.\u001b[39;49m\u001b[43mestablish_variables\u001b[49m\u001b[43m(\u001b[49m\u001b[43mx\u001b[49m\u001b[43m,\u001b[49m\u001b[43m \u001b[49m\u001b[43my\u001b[49m\u001b[43m,\u001b[49m\u001b[43m \u001b[49m\u001b[43mhue\u001b[49m\u001b[43m,\u001b[49m\u001b[43m \u001b[49m\u001b[43mdata\u001b[49m\u001b[43m,\u001b[49m\u001b[43m \u001b[49m\u001b[43morient\u001b[49m\u001b[43m,\u001b[49m\n\u001b[0;32m   1531\u001b[0m \u001b[43m                             \u001b[49m\u001b[43morder\u001b[49m\u001b[43m,\u001b[49m\u001b[43m \u001b[49m\u001b[43mhue_order\u001b[49m\u001b[43m,\u001b[49m\u001b[43m \u001b[49m\u001b[43munits\u001b[49m\u001b[43m)\u001b[49m\n\u001b[0;32m   1532\u001b[0m     \u001b[38;5;28mself\u001b[39m\u001b[38;5;241m.\u001b[39mestablish_colors(color, palette, saturation)\n\u001b[0;32m   1533\u001b[0m     \u001b[38;5;28mself\u001b[39m\u001b[38;5;241m.\u001b[39mestimate_statistic(estimator, errorbar, n_boot, seed)\n",
      "File \u001b[1;32m~\\anaconda3\\Lib\\site-packages\\seaborn\\categorical.py:541\u001b[0m, in \u001b[0;36m_CategoricalPlotter.establish_variables\u001b[1;34m(self, x, y, hue, data, orient, order, hue_order, units)\u001b[0m\n\u001b[0;32m    539\u001b[0m     \u001b[38;5;28;01mif\u001b[39;00m \u001b[38;5;28misinstance\u001b[39m(var, \u001b[38;5;28mstr\u001b[39m):\n\u001b[0;32m    540\u001b[0m         err \u001b[38;5;241m=\u001b[39m \u001b[38;5;124mf\u001b[39m\u001b[38;5;124m\"\u001b[39m\u001b[38;5;124mCould not interpret input \u001b[39m\u001b[38;5;124m'\u001b[39m\u001b[38;5;132;01m{\u001b[39;00mvar\u001b[38;5;132;01m}\u001b[39;00m\u001b[38;5;124m'\u001b[39m\u001b[38;5;124m\"\u001b[39m\n\u001b[1;32m--> 541\u001b[0m         \u001b[38;5;28;01mraise\u001b[39;00m \u001b[38;5;167;01mValueError\u001b[39;00m(err)\n\u001b[0;32m    543\u001b[0m \u001b[38;5;66;03m# Figure out the plotting orientation\u001b[39;00m\n\u001b[0;32m    544\u001b[0m orient \u001b[38;5;241m=\u001b[39m infer_orient(\n\u001b[0;32m    545\u001b[0m     x, y, orient, require_numeric\u001b[38;5;241m=\u001b[39m\u001b[38;5;28mself\u001b[39m\u001b[38;5;241m.\u001b[39mrequire_numeric\n\u001b[0;32m    546\u001b[0m )\n",
      "\u001b[1;31mValueError\u001b[0m: Could not interpret input 'Category'"
     ]
    },
    {
     "data": {
      "image/png": "[encoded data removed]",
      "text/plain": [
       "<Figure size 1400x1200 with 4 Axes>"
      ]
     },
     "metadata": {},
     "output_type": "display_data"
    }
   ],
   "source": [
    "# Группировка данных по категориям и суммам\n",
    "\n",
    "\n",
    "# Создание подграфиков\n",
    "fig, axs = plt.subplots(2, 2, figsize=(14, 12))\n",
    "\n",
    "# Гистограмма: Сумма количеств по категориям продуктов\n",
    "sns.barplot(x='Category', y='Quantity', data=cat_quantity, color='blue', ax=axs[0, 0])\n",
    "axs[0, 0].set_title(\"Sum of Quantities by Product Category\")\n",
    "\n",
    "# Гистограмма: Сумма общей суммы по категориям продуктов\n",
    "sns.barplot(x='Category', y='Total Amount', data=cat_total, color='gray', ax=axs[0, 1])\n",
    "axs[0, 1].set_title(\"Sum of Total Amounts by Product Category\")\n",
    "\n",
    "# Круговая диаграмма: Процентное распределение количества по категориям продуктов\n",
    "axs[1, 0].pie(cat_quantity['Quantity'], labels=cat_quantity['Category'], autopct='%1.1f%%', colors=['blue', 'orange', 'red'], startangle=180)\n",
    "axs[1, 0].set_title(\"Percentage Distribution of Quantity by Product Category\")\n",
    "\n",
    "# Круговая диаграмма: Процентное распределение общей суммы по категориям продуктов\n",
    "axs[1, 1].pie(cat_total['Total Amount'], labels=cat_total['Category'], autopct='%1.1f%%', colors=['blue', 'orange', 'red'], startangle=180)\n",
    "axs[1, 1].set_title(\"Percentage Distribution of Total Amount by Product Category\")\n",
    "\n",
    "# Автоматическое размещение подграфиков\n",
    "plt.tight_layout()\n",
    "\n",
    "# Показать графики\n",
    "plt.show()"
   ]
  },
  {
   "cell_type": "code",
   "execution_count": null,
   "id": "0b195c64-d039-4ba6-b44f-4ad9c84ea560",
   "metadata": {},
   "outputs": [],
   "source": [
    "f_data = df[df['Gender'] == 'Female']\n",
    "m_data = df[df['Gender'] == 'Male']\n",
    "\n",
    "f_grouped = f_data.groupby('Category')['Total Amount'].sum()\n",
    "m_grouped = m_data.groupby('Category')['Total Amount'].sum()\n",
    "a_grouped = df.groupby(['Category'])['Total Amount'].sum()\n",
    "fig, axs = plt.subplots(1,3, figsize = (14,6))\n",
    "\n",
    "axs[0].pie(f_grouped, labels=f_grouped.index, autopct='%1.1f%%',startangle = 0)\n",
    "axs[0].set_title('Female Total Amount Distribution')\n",
    "axs[1].pie(m_grouped, labels=m_grouped.index, autopct='%1.1f%%',startangle = 270)\n",
    "axs[1].set_title('Male Total Amount Distribution')\n",
    "axs[2].pie(a_grouped,labels =a_grouped.index,autopct='%1.1f%%', startangle = 180)\n",
    "axs[2].set_title('Total Amount Distribution')\n",
    "\n",
    "plt.show()\n"
   ]
  },
  {
   "cell_type": "code",
   "execution_count": null,
   "id": "fe444b4a-7614-4974-af36-bab86a69061b",
   "metadata": {},
   "outputs": [],
   "source": [
    "fig, axs = plt.subplots(3, 1, figsize=(14, 24))  # Увеличиваем высоту фигуры\n",
    "\n",
    "# Устанавливаем ширину столбцов\n",
    "bar_width = 0.4\n",
    "\n",
    "# Построение столбчатой диаграммы для мужчин\n",
    "axs[0].bar(m_grouped['Category'], m_grouped['Total Amount'], color='green', width=bar_width)\n",
    "axs[0].set_title('Total Amount by Product Category for Male')\n",
    "axs[0].set_xlabel('Category')\n",
    "axs[0].set_ylabel('Total Amount')\n",
    "axs[0].tick_params(axis='x', rotation=45)\n",
    "\n",
    "# Построение столбчатой диаграммы для женщин\n",
    "axs[1].bar(f_grouped['Category'], f_grouped['Total Amount'], color='blue', width=bar_width)\n",
    "axs[1].set_title('Total Amount by Product Category for Female')\n",
    "axs[1].set_xlabel('Category')\n",
    "axs[1].set_ylabel('Total Amount')\n",
    "axs[1].tick_params(axis='x', rotation=45)\n",
    "\n",
    "# Построение столбчатой диаграммы для всех данных\n",
    "axs[2].bar(a_grouped['Category'], a_grouped['Total Amount'], color='gray', width=bar_width)\n",
    "axs[2].set_title('Total Amount by Product Category for All')\n",
    "axs[2].set_xlabel('Category')\n",
    "axs[2].set_ylabel('Total Amount')\n",
    "axs[2].tick_params(axis='x', rotation=45)\n",
    "\n",
    "# Настройка компоновки и отображение графиков\n",
    "plt.tight_layout()\n",
    "plt.show()"
   ]
  },
  {
   "cell_type": "code",
   "execution_count": null,
   "id": "70c27bcf-51f3-459d-b9f1-71508a8b49a5",
   "metadata": {},
   "outputs": [],
   "source": [
    "fig, axs = plt.subplots(1, 3, figsize=(18, 6), sharey=True)  # Один ряд, три столбца, общая ось Y\n",
    "\n",
    "# Построение столбчатой диаграммы для мужчин\n",
    "axs[0].bar(m_grouped['Category'], m_grouped['Total Amount'], color='green')\n",
    "axs[0].set_title('Total Amount by Product Category for Male')\n",
    "axs[0].set_xlabel('Category')\n",
    "axs[0].set_ylabel('Total Amount')\n",
    "axs[0].tick_params(axis='x', rotation=45)\n",
    "\n",
    "# Построение столбчатой диаграммы для женщин\n",
    "axs[1].bar(f_grouped['Category'], f_grouped['Total Amount'], color='blue')\n",
    "axs[1].set_title('Total Amount by Product Category for Female')\n",
    "axs[1].set_xlabel('Category')\n",
    "axs[1].tick_params(axis='x', rotation=45)\n",
    "\n",
    "# Построение столбчатой диаграммы для всех данных\n",
    "axs[2].bar(a_grouped['Category'], a_grouped['Total Amount'], color='gray')\n",
    "axs[2].set_title('Total Amount by Product Category for All')\n",
    "axs[2].set_xlabel('Category')\n",
    "axs[2].tick_params(axis='x', rotation=45)\n",
    "\n",
    "# Настройка компоновки и отображение графиков\n",
    "plt.tight_layout()\n",
    "plt.show()"
   ]
  },
  {
   "cell_type": "code",
   "execution_count": null,
   "id": "31a95947-3773-42f8-8984-a7bd7564ed02",
   "metadata": {},
   "outputs": [],
   "source": []
  },
  {
   "cell_type": "code",
   "execution_count": null,
   "id": "d0042869-6c3a-451c-aa43-98b2578e7626",
   "metadata": {},
   "outputs": [],
   "source": []
  },
  {
   "cell_type": "code",
   "execution_count": null,
   "id": "815724a3-bb7b-4b14-b508-f11b4000a547",
   "metadata": {},
   "outputs": [],
   "source": []
  },
  {
   "cell_type": "code",
   "execution_count": null,
   "id": "9697f9c5-4d50-4a35-85af-e78b2c7339e1",
   "metadata": {},
   "outputs": [],
   "source": [
    "df.to_excel('Cleaning_data.xlsx', index = False)"
   ]
  },
  {
   "cell_type": "code",
   "execution_count": null,
   "id": "2e2b2915-0b30-4e07-8839-5f94496e28b5",
   "metadata": {},
   "outputs": [],
   "source": []
  }
 ],
 "metadata": {
  "kernelspec": {
   "display_name": "Python 3 (ipykernel)",
   "language": "python",
   "name": "python3"
  },
  "language_info": {
   "codemirror_mode": {
    "name": "ipython",
    "version": 3
   },
   "file_extension": ".py",
   "mimetype": "text/x-python",
   "name": "python",
   "nbconvert_exporter": "python",
   "pygments_lexer": "ipython3",
   "version": "3.11.7"
  }
 },
 "nbformat": 4,
 "nbformat_minor": 5
}
